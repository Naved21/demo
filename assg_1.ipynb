{
 "cells": [
  {
   "cell_type": "code",
   "execution_count": 11,
   "metadata": {},
   "outputs": [
    {
     "name": "stdout",
     "output_type": "stream",
     "text": [
      "number of elements in list: 4\n",
      "enter the element of list: 4\n",
      "enter the element of list: 5\n",
      "enter the element of list: 4\n",
      "enter the element of list: 6\n",
      "final list: ['4', '6', '5']\n"
     ]
    }
   ],
   "source": [
    "#Q.1\n",
    "\n",
    "lst=[]\n",
    "n=int(input(\"number of elements in list: \"))\n",
    "for i in range(0,n):\n",
    "    print(\"enter the element of list:\",end=\" \")\n",
    "    lst.append(input()) #user defined list was asked, not list of int. So input() is used.\n",
    "print(\"final list:\",list(set(lst)))"
   ]
  },
  {
   "cell_type": "code",
   "execution_count": 66,
   "metadata": {},
   "outputs": [
    {
     "name": "stdout",
     "output_type": "stream",
     "text": [
      "number of elements in tuple: 5\n",
      "enter the element of tuple: 1\n",
      "enter the element of tuple: 6\n",
      "enter the element of tuple: 0\n",
      "enter the element of tuple: 32\n",
      "enter the element of tuple: 84\n",
      "\n",
      "tuple is: (1, 6, 0, 32, 84)\n",
      "lenght of tuple:\n",
      "5\n",
      "sum of elements:\n",
      "123\n",
      "maximum value:\n",
      "84\n",
      "minimum value:\n",
      "0\n"
     ]
    }
   ],
   "source": [
    "#Q.2\n",
    "\n",
    "lst=[]\n",
    "n=int(input(\"number of elements in tuple: \"))\n",
    "for i in range(0,n):\n",
    "    print(\"enter the element of tuple:\",end=\" \")\n",
    "    k=int(input()) #to create int type tuple\n",
    "    lst.append(k)\n",
    "\n",
    "t=tuple(lst) #tuple from list\n",
    "print(\"\\ntuple is:\",t)\n",
    "print(\"lenght of tuple:\",len(t),\"sum of elements:\",sum(t),sep=\"\\n\")\n",
    "print(\"maximum value:\",max(t),\"minimum value:\",min(t),sep=\"\\n\")"
   ]
  },
  {
   "cell_type": "code",
   "execution_count": 68,
   "metadata": {},
   "outputs": [
    {
     "name": "stdout",
     "output_type": "stream",
     "text": [
      "number = 14\n",
      "bit to be changed = 0\n",
      "output: 15\n"
     ]
    }
   ],
   "source": [
    "#Q.3\n",
    "n = int(input(\"number = \"))\n",
    "i = int(input(\"bit to be changed = \"))\n",
    "op = (1 << i) | n #or operation with number and shifted bit creates a high(1) bit\n",
    "print(\"output:\",op)"
   ]
  },
  {
   "cell_type": "code",
   "execution_count": 62,
   "metadata": {},
   "outputs": [
    {
     "name": "stdout",
     "output_type": "stream",
     "text": [
      "Enter the number = 156\n",
      "0\n"
     ]
    }
   ],
   "source": [
    "#Q.4\n",
    "\n",
    "n = int(input('Enter the number = '))\n",
    "print(n & 1) #applicable as Oth bit of odd no. is 1 while for even no., it is 0"
   ]
  },
  {
   "cell_type": "code",
   "execution_count": 64,
   "metadata": {},
   "outputs": [
    {
     "name": "stdout",
     "output_type": "stream",
     "text": [
      "number of elements in list A: 4\n",
      "enter the element of list A: 1\n",
      "enter the element of list A: 6\n",
      "enter the element of list A: 0\n",
      "enter the element of list A: 3\n",
      "number of elements in list B: 3\n",
      "enter the element of list B: 2\n",
      "enter the element of list B: 52\n",
      "enter the element of list B: 10\n",
      "List in Ascending order: [0, 1, 2, 3, 6, 10, 52]\n"
     ]
    }
   ],
   "source": [
    "#Q.5\n",
    "A=[]\n",
    "B=[]\n",
    "n=int(input(\"number of elements in list A: \"))\n",
    "for i in range(0,n):\n",
    "    print(\"enter the element of list A:\",end=\" \")\n",
    "    k=int(input()) #to create int type list\n",
    "    A.append(k)\n",
    "    \n",
    "m=int(input(\"number of elements in list B: \"))\n",
    "\n",
    "for i in range(0,m):\n",
    "    print(\"enter the element of list B:\",end=\" \")\n",
    "    x=int(input()) #to create int type list\n",
    "    B.append(x)\n",
    "\n",
    "C= A + B\n",
    "C.sort()\n",
    "print('List in Ascending order:',C)"
   ]
  },
  {
   "cell_type": "code",
   "execution_count": 61,
   "metadata": {},
   "outputs": [
    {
     "name": "stdout",
     "output_type": "stream",
     "text": [
      "number of students:4\n",
      "Enter name & score separated by \":\" Berlin:70\n",
      "Enter name & score separated by \":\" Moscow:50\n",
      "Enter name & score separated by \":\" Oslo:0\n",
      "Enter name & score separated by \":\" Nairobi:100\n",
      "\n",
      "Data of Students:  {'Oslo': 0, 'Moscow': 50, 'Berlin': 70, 'Nairobi': 100}\n"
     ]
    }
   ],
   "source": [
    "#Q.6\n",
    "\n",
    "d=dict()\n",
    "n=int(input(\"number of students:\"))\n",
    "\n",
    "for i in range(0,n):\n",
    "    pair = input('Enter name & score separated by \":\" ')\n",
    "    k_p=pair.split(':') #splitting the data of name & score\n",
    "    d[k_p[0]] = int(k_p[1]) #putting key:name & value:score in dictionary\n",
    "\n",
    "sorted_d = sorted(d.items(), key=lambda kv: kv[1]) #creating ordered list of tuples from values.\n",
    "\n",
    "print(\"\\nData of Students: \",dict(sorted_d))"
   ]
  }
 ],
 "metadata": {
  "kernelspec": {
   "display_name": "Python 3",
   "language": "python",
   "name": "python3"
  },
  "language_info": {
   "codemirror_mode": {
    "name": "ipython",
    "version": 3
   },
   "file_extension": ".py",
   "mimetype": "text/x-python",
   "name": "python",
   "nbconvert_exporter": "python",
   "pygments_lexer": "ipython3",
   "version": "3.7.6"
  }
 },
 "nbformat": 4,
 "nbformat_minor": 4
}
