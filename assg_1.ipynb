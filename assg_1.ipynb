{
 "cells": [
  {
   "cell_type": "markdown",
   "metadata": {},
   "source": [
    "Made without using loops, map, def or anything extra"
   ]
  },
  {
   "cell_type": "code",
   "execution_count": 26,
   "metadata": {},
   "outputs": [
    {
     "name": "stdout",
     "output_type": "stream",
     "text": [
      "give input with a space:4 4 5 6 8 5 4\n",
      "final list: ['5', '6', '8', '4']\n"
     ]
    }
   ],
   "source": [
    "#Q.1\n",
    "\n",
    "lstStr=(input(\"give input with a space:\"))\n",
    "lst0=lstStr.split(\" \")\n",
    "Set=set(lst0) #removing dupliacte inputes\n",
    "\n",
    "lst=list(Set) #creating output list \n",
    "print(\"final list:\",lst)"
   ]
  },
  {
   "cell_type": "code",
   "execution_count": 27,
   "metadata": {},
   "outputs": [
    {
     "name": "stdout",
     "output_type": "stream",
     "text": [
      "give input with a space:4 5 6\n",
      "('4', '5', '6')\n",
      "3\n",
      "6\n",
      "4\n"
     ]
    }
   ],
   "source": [
    "#Q.2\n",
    "Str=input(\"give input with a space:\")\n",
    "lst=Str.split(\" \")\n",
    "t=tuple(lst)\n",
    "\n",
    "print(t)\n",
    "print(len(t))\n",
    "print(max(t))\n",
    "print(min(t))"
   ]
  },
  {
   "cell_type": "code",
   "execution_count": 20,
   "metadata": {},
   "outputs": [
    {
     "name": "stdout",
     "output_type": "stream",
     "text": [
      "num = 13\n",
      "ith bit = 1\n",
      "output: 15\n"
     ]
    }
   ],
   "source": [
    "#Q.3\n",
    "n = int(input(\"num = \"))\n",
    "i = int(input(\"ith bit = \"))\n",
    "o = (1 << i) | n\n",
    "print(\"output:\",o)"
   ]
  },
  {
   "cell_type": "code",
   "execution_count": 19,
   "metadata": {},
   "outputs": [
    {
     "name": "stdout",
     "output_type": "stream",
     "text": [
      "Enter the number = 2\n",
      "0\n"
     ]
    }
   ],
   "source": [
    "#Q.4\n",
    "n = int(input('Enter the number = '))\n",
    "if n%2 == 1:\n",
    "    print(1)\n",
    "else:\n",
    "    print(0)"
   ]
  },
  {
   "cell_type": "code",
   "execution_count": 28,
   "metadata": {},
   "outputs": [
    {
     "name": "stdout",
     "output_type": "stream",
     "text": [
      "give input with proper space:1 2 3\n",
      "give input with proper space:4 8 6\n",
      "Merged list : ['1', '2', '3', '4', '8', '6']\n",
      "Ascending list: ['1', '2', '3', '4', '6', '8']\n"
     ]
    }
   ],
   "source": [
    "#Q.5\n",
    "lstStr=(input(\"give input with proper space:\"))\n",
    "A=lstStr.split(\" \")\n",
    "\n",
    "lstStr1=(input(\"give input with proper space:\"))\n",
    "B=lstStr1.split(\" \")\n",
    "\n",
    "C= A + B\n",
    "print('Merged list :',C)\n",
    "C.sort()\n",
    "print('Ascending list:',C)"
   ]
  },
  {
   "cell_type": "code",
   "execution_count": 21,
   "metadata": {},
   "outputs": [
    {
     "name": "stdout",
     "output_type": "stream",
     "text": [
      "The list printed sorting by age:\n",
      "[{'name': 'Nikhil', 'marks': 19}, {'name': 'Manjeet', 'marks': 20}, {'name': 'Nandini', 'marks': 50}]\n"
     ]
    }
   ],
   "source": [
    "#Q.6\n",
    "lis = [{ \"name\" : \"Nandini\", \"marks\" : 50},  \n",
    "{ \"name\" : \"Manjeet\", \"marks\" : 20 }, \n",
    "{ \"name\" : \"Nikhil\" , \"marks\" : 19 }] \n",
    "\n",
    "print (\"The list printed sorting by age:\")\n",
    "print(sorted(lis, key = lambda i: i['marks']))"
   ]
  }
 ],
 "metadata": {
  "kernelspec": {
   "display_name": "Python 3",
   "language": "python",
   "name": "python3"
  },
  "language_info": {
   "codemirror_mode": {
    "name": "ipython",
    "version": 3
   },
   "file_extension": ".py",
   "mimetype": "text/x-python",
   "name": "python",
   "nbconvert_exporter": "python",
   "pygments_lexer": "ipython3",
   "version": "3.7.6"
  }
 },
 "nbformat": 4,
 "nbformat_minor": 4
}
